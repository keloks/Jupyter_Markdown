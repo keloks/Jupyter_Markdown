{
 "cells": [
  {
   "cell_type": "markdown",
   "id": "3e72d048",
   "metadata": {},
   "source": [
    "# Sprint 2\n",
    "- Llista:\n",
    "    + item1\n",
    "    + item2\n",
    "    \n",
    "- AnotherList\n",
    "    + item3  \n",
    "\n",
    "**This text is bold**  \n",
    "_This is italic_\n",
    "\n",
    "![img1](https://pyxis.nymag.com/v1/imgs/e1e/6b7/e7e202e97398fd64f6f9b6c6d13a526234-tired-spongebob.rhorizontal.w700.jpg)"
   ]
  },
  {
   "cell_type": "markdown",
   "id": "3a334c3c",
   "metadata": {},
   "source": [
    "### A Table on Jupyter features\n",
    "|Positive | Negative|\n",
    "|---|---|\n",
    "|Maybe it is easy| Convoluted|\n",
    "|...| The Latex is not easily converted to pdf|\n",
    "|...| Feels clunky with OOP|\n",
    "|...| Not easily readable|"
   ]
  },
  {
   "cell_type": "code",
   "execution_count": null,
   "id": "ca6fff7b",
   "metadata": {},
   "outputs": [],
   "source": []
  }
 ],
 "metadata": {
  "anaconda-cloud": {},
  "kernelspec": {
   "display_name": "Python 3 (ipykernel)",
   "language": "python",
   "name": "python3"
  },
  "language_info": {
   "codemirror_mode": {
    "name": "ipython",
    "version": 3
   },
   "file_extension": ".py",
   "mimetype": "text/x-python",
   "name": "python",
   "nbconvert_exporter": "python",
   "pygments_lexer": "ipython3",
   "version": "3.7.11"
  }
 },
 "nbformat": 4,
 "nbformat_minor": 5
}
